{
 "cells": [
  {
   "cell_type": "code",
   "execution_count": 15,
   "metadata": {},
   "outputs": [],
   "source": [
    "from pathlib import Path\n",
    "from utils.vis_utils import model_params,visualization_pre,visualization_bbox, visualization_bbox_dir,visualization_pre_dir\n",
    "from utils.eff_utils import load_yaml\n",
    "path = Path.cwd()"
   ]
  },
  {
   "cell_type": "code",
   "execution_count": 16,
   "metadata": {},
   "outputs": [],
   "source": [
    "project_name = \"0422split\"\n",
    "# model_path = 'logs/crack/efficientdet-d2_199_12000.pth'"
   ]
  },
  {
   "cell_type": "code",
   "execution_count": 17,
   "metadata": {},
   "outputs": [],
   "source": [
    "ann_json = path / 'datasets/{}/annotations/instances_train.json'.format(project_name)\n",
    "img_path = path / 'datasets/{}/val'.format(project_name)\n",
    "yaml_path = path / 'projects/{}.yml'.format(project_name)"
   ]
  },
  {
   "cell_type": "code",
   "execution_count": 18,
   "metadata": {},
   "outputs": [],
   "source": [
    "import json\n",
    "with open(str(ann_json)) as f:\n",
    "    ann=json.load(f)\n",
    "ann.keys()\n",
    "# ann['categories']\n",
    "annotations_ = [i for i in ann[\"annotations\"] if i[\"category_id\"] not in [20,21]]\n",
    "categories_ = [i for i in ann[\"categories\"] if i[\"id\"] not in [20,21]]"
   ]
  },
  {
   "cell_type": "code",
   "execution_count": 19,
   "metadata": {},
   "outputs": [
    {
     "data": {
      "text/plain": [
       "[{'supercategory': 'none', 'id': 1, 'name': 'pounding'},\n",
       " {'supercategory': 'none', 'id': 2, 'name': 'pothole'},\n",
       " {'supercategory': 'none', 'id': 3, 'name': 'hcrack'},\n",
       " {'supercategory': 'none', 'id': 4, 'name': 'rsign'},\n",
       " {'supercategory': 'none', 'id': 5, 'name': 'vcrack'},\n",
       " {'supercategory': 'none', 'id': 6, 'name': 'animal'},\n",
       " {'supercategory': 'none', 'id': 7, 'name': 'csign'},\n",
       " {'supercategory': 'none', 'id': 8, 'name': 'people'},\n",
       " {'supercategory': 'none', 'id': 9, 'name': 'indicator-red'},\n",
       " {'supercategory': 'none', 'id': 10, 'name': 'lcrack'},\n",
       " {'supercategory': 'none', 'id': 11, 'name': 'spiledmaterial'},\n",
       " {'supercategory': 'none', 'id': 12, 'name': 'tsign'},\n",
       " {'supercategory': 'none', 'id': 13, 'name': 'gantry'},\n",
       " {'supercategory': 'none', 'id': 14, 'name': 'osign'},\n",
       " {'supercategory': 'none', 'id': 15, 'name': 'label'},\n",
       " {'supercategory': 'none', 'id': 16, 'name': 'fracturing'},\n",
       " {'supercategory': 'none', 'id': 17, 'name': 'lamplight'},\n",
       " {'supercategory': 'none', 'id': 18, 'name': 'indicator-green'},\n",
       " {'supercategory': 'none', 'id': 19, 'name': 'indicator'}]"
      ]
     },
     "execution_count": 19,
     "metadata": {},
     "output_type": "execute_result"
    }
   ],
   "source": [
    "categories_"
   ]
  },
  {
   "cell_type": "code",
   "execution_count": 20,
   "metadata": {},
   "outputs": [],
   "source": [
    "ann[\"annotations\"] = annotations_\n",
    "ann[\"categories\"] = categories_"
   ]
  },
  {
   "cell_type": "code",
   "execution_count": 21,
   "metadata": {},
   "outputs": [],
   "source": [
    "json.dump(ann,  open('datasets/0422split/annotations/instances_train.json', \"w\"))"
   ]
  },
  {
   "cell_type": "code",
   "execution_count": null,
   "metadata": {},
   "outputs": [],
   "source": []
  }
 ],
 "metadata": {
  "interpreter": {
   "hash": "f9e9b159799285ea164719ddc4fe351d6fa9b0332cb9ca4857e109bca51307c6"
  },
  "kernelspec": {
   "display_name": "Python 3.7.0 ('eff')",
   "language": "python",
   "name": "python3"
  },
  "language_info": {
   "codemirror_mode": {
    "name": "ipython",
    "version": 3
   },
   "file_extension": ".py",
   "mimetype": "text/x-python",
   "name": "python",
   "nbconvert_exporter": "python",
   "pygments_lexer": "ipython3",
   "version": "3.7.0"
  },
  "orig_nbformat": 4
 },
 "nbformat": 4,
 "nbformat_minor": 2
}
