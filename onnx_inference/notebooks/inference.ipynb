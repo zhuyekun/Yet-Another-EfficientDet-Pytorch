{
 "cells": [
  {
   "cell_type": "code",
   "execution_count": 1,
   "metadata": {},
   "outputs": [
    {
     "name": "stderr",
     "output_type": "stream",
     "text": [
      "/home/mazheng/miniconda3/envs/eff/lib/python3.7/site-packages/tqdm/auto.py:22: TqdmWarning: IProgress not found. Please update jupyter and ipywidgets. See https://ipywidgets.readthedocs.io/en/stable/user_install.html\n",
      "  from .autonotebook import tqdm as notebook_tqdm\n"
     ]
    }
   ],
   "source": [
    "from pathlib import Path\n",
    "import sys \n",
    "sys.path.append(\"../..\")\n",
    "from utils.vis_utils import visualization_bbox,load_onnx,eval_onnx,display_bbox\n",
    "from utils.eff_utils import load_yaml\n",
    "path = Path.cwd().parent"
   ]
  },
  {
   "cell_type": "code",
   "execution_count": 2,
   "metadata": {},
   "outputs": [],
   "source": [
    "import os\n",
    "os.environ[\"CUDA_VISIBLE_DEVICES\"] = '0'"
   ]
  },
  {
   "cell_type": "code",
   "execution_count": 3,
   "metadata": {},
   "outputs": [],
   "source": [
    "project_name = \"0509split\"\n",
    "onnx_path = '/home/mazheng/waste-detection/Yet-Another-EfficientDet-Pytorch/inference_tool/weights/efficientdet-d2.onnx'\n",
    "# onnx_path = \"efficientdet-d2.onnx\"\n",
    "compound_coef = 2\n",
    "threshold = 0.2\n",
    "iou_threshold = 0.2"
   ]
  },
  {
   "cell_type": "code",
   "execution_count": 4,
   "metadata": {},
   "outputs": [],
   "source": [
    "img_path = path / 'datasets/{}/val'.format(project_name)\n",
    "ann_json = path / 'datasets/{}/annotations/instances_val.json'.format(project_name)\n",
    "yaml_path = path / 'projects/{}.yml'.format(project_name)\n",
    "\n",
    "project_params = load_yaml(str(yaml_path))\n",
    "obj_list = project_params['obj_list']"
   ]
  },
  {
   "cell_type": "code",
   "execution_count": 5,
   "metadata": {},
   "outputs": [
    {
     "name": "stdout",
     "output_type": "stream",
     "text": [
      "True\n"
     ]
    },
    {
     "name": "stderr",
     "output_type": "stream",
     "text": [
      "2022-05-14 22:47:55.239721367 [W:onnxruntime:, graph.cc:3559 CleanUnusedInitializersAndNodeArgs] Removing initializer 'backbone_net.model._blocks.16._bn2.num_batches_tracked'. It is not used by any node and should be removed from the model.\n",
      "2022-05-14 22:47:55.239782333 [W:onnxruntime:, graph.cc:3559 CleanUnusedInitializersAndNodeArgs] Removing initializer 'classifier.bn_list.0.1.num_batches_tracked'. It is not used by any node and should be removed from the model.\n",
      "2022-05-14 22:47:55.239807025 [W:onnxruntime:, graph.cc:3559 CleanUnusedInitializersAndNodeArgs] Removing initializer 'bifpn.4.conv3_up.bn.num_batches_tracked'. It is not used by any node and should be removed from the model.\n",
      "2022-05-14 22:47:55.239849114 [W:onnxruntime:, graph.cc:3559 CleanUnusedInitializersAndNodeArgs] Removing initializer 'backbone_net.model._blocks.0._bn2.num_batches_tracked'. It is not used by any node and should be removed from the model.\n",
      "2022-05-14 22:47:55.239877225 [W:onnxruntime:, graph.cc:3559 CleanUnusedInitializersAndNodeArgs] Removing initializer 'bifpn.0.conv7_down.bn.num_batches_tracked'. It is not used by any node and should be removed from the model.\n",
      "2022-05-14 22:47:55.239889535 [W:onnxruntime:, graph.cc:3559 CleanUnusedInitializersAndNodeArgs] Removing initializer 'backbone_net.model._blocks.11._bn1.num_batches_tracked'. It is not used by any node and should be removed from the model.\n",
      "2022-05-14 22:47:55.239898554 [W:onnxruntime:, graph.cc:3559 CleanUnusedInitializersAndNodeArgs] Removing initializer 'backbone_net.model._blocks.10._bn1.num_batches_tracked'. It is not used by any node and should be removed from the model.\n",
      "2022-05-14 22:47:55.239915250 [W:onnxruntime:, graph.cc:3559 CleanUnusedInitializersAndNodeArgs] Removing initializer 'backbone_net.model._blocks.2._bn1.num_batches_tracked'. It is not used by any node and should be removed from the model.\n",
      "2022-05-14 22:47:55.239954592 [W:onnxruntime:, graph.cc:3559 CleanUnusedInitializersAndNodeArgs] Removing initializer 'backbone_net.model._blocks.12._bn0.num_batches_tracked'. It is not used by any node and should be removed from the model.\n",
      "2022-05-14 22:47:55.239964398 [W:onnxruntime:, graph.cc:3559 CleanUnusedInitializersAndNodeArgs] Removing initializer 'backbone_net.model._blocks.13._bn0.num_batches_tracked'. It is not used by any node and should be removed from the model.\n",
      "2022-05-14 22:47:55.239994703 [W:onnxruntime:, graph.cc:3559 CleanUnusedInitializersAndNodeArgs] Removing initializer 'regressor.bn_list.4.2.num_batches_tracked'. It is not used by any node and should be removed from the model.\n",
      "2022-05-14 22:47:55.240001029 [W:onnxruntime:, graph.cc:3559 CleanUnusedInitializersAndNodeArgs] Removing initializer 'regressor.bn_list.4.1.num_batches_tracked'. It is not used by any node and should be removed from the model.\n",
      "2022-05-14 22:47:55.240033125 [W:onnxruntime:, graph.cc:3559 CleanUnusedInitializersAndNodeArgs] Removing initializer 'regressor.bn_list.1.0.num_batches_tracked'. It is not used by any node and should be removed from the model.\n",
      "2022-05-14 22:47:55.240043636 [W:onnxruntime:, graph.cc:3559 CleanUnusedInitializersAndNodeArgs] Removing initializer 'regressor.bn_list.0.0.num_batches_tracked'. It is not used by any node and should be removed from the model.\n",
      "2022-05-14 22:47:55.240058075 [W:onnxruntime:, graph.cc:3559 CleanUnusedInitializersAndNodeArgs] Removing initializer 'classifier.bn_list.4.2.num_batches_tracked'. It is not used by any node and should be removed from the model.\n",
      "2022-05-14 22:47:55.240064854 [W:onnxruntime:, graph.cc:3559 CleanUnusedInitializersAndNodeArgs] Removing initializer 'regressor.bn_list.4.0.num_batches_tracked'. It is not used by any node and should be removed from the model.\n",
      "2022-05-14 22:47:55.240070229 [W:onnxruntime:, graph.cc:3559 CleanUnusedInitializersAndNodeArgs] Removing initializer 'classifier.bn_list.4.1.num_batches_tracked'. It is not used by any node and should be removed from the model.\n",
      "2022-05-14 22:47:55.240075777 [W:onnxruntime:, graph.cc:3559 CleanUnusedInitializersAndNodeArgs] Removing initializer 'backbone_net.model._blocks.8._bn2.num_batches_tracked'. It is not used by any node and should be removed from the model.\n",
      "2022-05-14 22:47:55.240080980 [W:onnxruntime:, graph.cc:3559 CleanUnusedInitializersAndNodeArgs] Removing initializer 'classifier.bn_list.4.0.num_batches_tracked'. It is not used by any node and should be removed from the model.\n",
      "2022-05-14 22:47:55.240094001 [W:onnxruntime:, graph.cc:3559 CleanUnusedInitializersAndNodeArgs] Removing initializer 'backbone_net.model._blocks.9._bn1.num_batches_tracked'. It is not used by any node and should be removed from the model.\n",
      "2022-05-14 22:47:55.240103783 [W:onnxruntime:, graph.cc:3559 CleanUnusedInitializersAndNodeArgs] Removing initializer 'classifier.bn_list.2.1.num_batches_tracked'. It is not used by any node and should be removed from the model.\n",
      "2022-05-14 22:47:55.240127997 [W:onnxruntime:, graph.cc:3559 CleanUnusedInitializersAndNodeArgs] Removing initializer 'bifpn.4.conv6_up.bn.num_batches_tracked'. It is not used by any node and should be removed from the model.\n",
      "2022-05-14 22:47:55.240140043 [W:onnxruntime:, graph.cc:3559 CleanUnusedInitializersAndNodeArgs] Removing initializer 'bifpn.4.conv6_down.bn.num_batches_tracked'. It is not used by any node and should be removed from the model.\n",
      "2022-05-14 22:47:55.240152448 [W:onnxruntime:, graph.cc:3559 CleanUnusedInitializersAndNodeArgs] Removing initializer 'bifpn.4.conv5_down.bn.num_batches_tracked'. It is not used by any node and should be removed from the model.\n",
      "2022-05-14 22:47:55.240165652 [W:onnxruntime:, graph.cc:3559 CleanUnusedInitializersAndNodeArgs] Removing initializer 'bifpn.4.conv4_down.bn.num_batches_tracked'. It is not used by any node and should be removed from the model.\n",
      "2022-05-14 22:47:55.240175038 [W:onnxruntime:, graph.cc:3559 CleanUnusedInitializersAndNodeArgs] Removing initializer 'regressor.bn_list.1.2.num_batches_tracked'. It is not used by any node and should be removed from the model.\n",
      "2022-05-14 22:47:55.240186534 [W:onnxruntime:, graph.cc:3559 CleanUnusedInitializersAndNodeArgs] Removing initializer 'backbone_net.model._blocks.6._bn0.num_batches_tracked'. It is not used by any node and should be removed from the model.\n",
      "2022-05-14 22:47:55.240191920 [W:onnxruntime:, graph.cc:3559 CleanUnusedInitializersAndNodeArgs] Removing initializer 'bifpn.2.conv3_up.bn.num_batches_tracked'. It is not used by any node and should be removed from the model.\n",
      "2022-05-14 22:47:55.240221971 [W:onnxruntime:, graph.cc:3559 CleanUnusedInitializersAndNodeArgs] Removing initializer 'backbone_net.model._blocks.5._bn2.num_batches_tracked'. It is not used by any node and should be removed from the model.\n",
      "2022-05-14 22:47:55.240230314 [W:onnxruntime:, graph.cc:3559 CleanUnusedInitializersAndNodeArgs] Removing initializer 'backbone_net.model._blocks.7._bn2.num_batches_tracked'. It is not used by any node and should be removed from the model.\n",
      "2022-05-14 22:47:55.240246007 [W:onnxruntime:, graph.cc:3559 CleanUnusedInitializersAndNodeArgs] Removing initializer 'backbone_net.model._blocks.21._bn1.num_batches_tracked'. It is not used by any node and should be removed from the model.\n",
      "2022-05-14 22:47:55.240255229 [W:onnxruntime:, graph.cc:3559 CleanUnusedInitializersAndNodeArgs] Removing initializer 'backbone_net.model._blocks.21._bn0.num_batches_tracked'. It is not used by any node and should be removed from the model.\n",
      "2022-05-14 22:47:55.240260804 [W:onnxruntime:, graph.cc:3559 CleanUnusedInitializersAndNodeArgs] Removing initializer 'backbone_net.model._blocks.2._bn2.num_batches_tracked'. It is not used by any node and should be removed from the model.\n",
      "2022-05-14 22:47:55.240269054 [W:onnxruntime:, graph.cc:3559 CleanUnusedInitializersAndNodeArgs] Removing initializer 'backbone_net.model._blocks.20._bn2.num_batches_tracked'. It is not used by any node and should be removed from the model.\n",
      "2022-05-14 22:47:55.240274884 [W:onnxruntime:, graph.cc:3559 CleanUnusedInitializersAndNodeArgs] Removing initializer 'backbone_net.model._blocks.7._bn1.num_batches_tracked'. It is not used by any node and should be removed from the model.\n",
      "2022-05-14 22:47:55.240306956 [W:onnxruntime:, graph.cc:3559 CleanUnusedInitializersAndNodeArgs] Removing initializer 'backbone_net.model._blocks.16._bn0.num_batches_tracked'. It is not used by any node and should be removed from the model.\n",
      "2022-05-14 22:47:55.240313996 [W:onnxruntime:, graph.cc:3559 CleanUnusedInitializersAndNodeArgs] Removing initializer 'regressor.bn_list.0.2.num_batches_tracked'. It is not used by any node and should be removed from the model.\n",
      "2022-05-14 22:47:55.240329552 [W:onnxruntime:, graph.cc:3559 CleanUnusedInitializersAndNodeArgs] Removing initializer 'backbone_net.model._blocks.12._bn2.num_batches_tracked'. It is not used by any node and should be removed from the model.\n",
      "2022-05-14 22:47:55.240338373 [W:onnxruntime:, graph.cc:3559 CleanUnusedInitializersAndNodeArgs] Removing initializer 'bifpn.3.conv5_up.bn.num_batches_tracked'. It is not used by any node and should be removed from the model.\n",
      "2022-05-14 22:47:55.240359208 [W:onnxruntime:, graph.cc:3559 CleanUnusedInitializersAndNodeArgs] Removing initializer 'backbone_net.model._blocks.18._bn0.num_batches_tracked'. It is not used by any node and should be removed from the model.\n",
      "2022-05-14 22:47:55.240372474 [W:onnxruntime:, graph.cc:3559 CleanUnusedInitializersAndNodeArgs] Removing initializer 'backbone_net.model._blocks.19._bn2.num_batches_tracked'. It is not used by any node and should be removed from the model.\n",
      "2022-05-14 22:47:55.240382810 [W:onnxruntime:, graph.cc:3559 CleanUnusedInitializersAndNodeArgs] Removing initializer 'bifpn.3.conv3_up.bn.num_batches_tracked'. It is not used by any node and should be removed from the model.\n",
      "2022-05-14 22:47:55.240395087 [W:onnxruntime:, graph.cc:3559 CleanUnusedInitializersAndNodeArgs] Removing initializer 'backbone_net.model._blocks.11._bn2.num_batches_tracked'. It is not used by any node and should be removed from the model.\n",
      "2022-05-14 22:47:55.240414550 [W:onnxruntime:, graph.cc:3559 CleanUnusedInitializersAndNodeArgs] Removing initializer 'backbone_net.model._blocks.2._bn0.num_batches_tracked'. It is not used by any node and should be removed from the model.\n",
      "2022-05-14 22:47:55.240424274 [W:onnxruntime:, graph.cc:3559 CleanUnusedInitializersAndNodeArgs] Removing initializer 'backbone_net.model._blocks.11._bn0.num_batches_tracked'. It is not used by any node and should be removed from the model.\n",
      "2022-05-14 22:47:55.240429538 [W:onnxruntime:, graph.cc:3559 CleanUnusedInitializersAndNodeArgs] Removing initializer 'backbone_net.model._blocks.1._bn1.num_batches_tracked'. It is not used by any node and should be removed from the model.\n",
      "2022-05-14 22:47:55.240441733 [W:onnxruntime:, graph.cc:3559 CleanUnusedInitializersAndNodeArgs] Removing initializer 'bifpn.0.conv5_down.bn.num_batches_tracked'. It is not used by any node and should be removed from the model.\n",
      "2022-05-14 22:47:55.240450563 [W:onnxruntime:, graph.cc:3559 CleanUnusedInitializersAndNodeArgs] Removing initializer 'backbone_net.model._blocks.20._bn0.num_batches_tracked'. It is not used by any node and should be removed from the model.\n",
      "2022-05-14 22:47:55.240466699 [W:onnxruntime:, graph.cc:3559 CleanUnusedInitializersAndNodeArgs] Removing initializer 'bifpn.0.p3_down_channel.1.num_batches_tracked'. It is not used by any node and should be removed from the model.\n",
      "2022-05-14 22:47:55.240482013 [W:onnxruntime:, graph.cc:3559 CleanUnusedInitializersAndNodeArgs] Removing initializer 'backbone_net.model._blocks.16._bn1.num_batches_tracked'. It is not used by any node and should be removed from the model.\n",
      "2022-05-14 22:47:55.240493085 [W:onnxruntime:, graph.cc:3559 CleanUnusedInitializersAndNodeArgs] Removing initializer 'backbone_net.model._blocks.15._bn0.num_batches_tracked'. It is not used by any node and should be removed from the model.\n",
      "2022-05-14 22:47:55.240499680 [W:onnxruntime:, graph.cc:3559 CleanUnusedInitializersAndNodeArgs] Removing initializer 'bifpn.1.conv6_up.bn.num_batches_tracked'. It is not used by any node and should be removed from the model.\n",
      "2022-05-14 22:47:55.240507839 [W:onnxruntime:, graph.cc:3559 CleanUnusedInitializersAndNodeArgs] Removing initializer 'backbone_net.model._blocks.10._bn2.num_batches_tracked'. It is not used by any node and should be removed from the model.\n",
      "2022-05-14 22:47:55.240517985 [W:onnxruntime:, graph.cc:3559 CleanUnusedInitializersAndNodeArgs] Removing initializer 'backbone_net.model._blocks.3._bn0.num_batches_tracked'. It is not used by any node and should be removed from the model.\n",
      "2022-05-14 22:47:55.240525644 [W:onnxruntime:, graph.cc:3559 CleanUnusedInitializersAndNodeArgs] Removing initializer 'backbone_net.model._blocks.5._bn0.num_batches_tracked'. It is not used by any node and should be removed from the model.\n",
      "2022-05-14 22:47:55.240536374 [W:onnxruntime:, graph.cc:3559 CleanUnusedInitializersAndNodeArgs] Removing initializer 'backbone_net.model._blocks.14._bn0.num_batches_tracked'. It is not used by any node and should be removed from the model.\n",
      "2022-05-14 22:47:55.240543855 [W:onnxruntime:, graph.cc:3559 CleanUnusedInitializersAndNodeArgs] Removing initializer 'backbone_net.model._blocks.17._bn1.num_batches_tracked'. It is not used by any node and should be removed from the model.\n",
      "2022-05-14 22:47:55.240555999 [W:onnxruntime:, graph.cc:3559 CleanUnusedInitializersAndNodeArgs] Removing initializer 'backbone_net.model._blocks.0._bn1.num_batches_tracked'. It is not used by any node and should be removed from the model.\n",
      "2022-05-14 22:47:55.240570476 [W:onnxruntime:, graph.cc:3559 CleanUnusedInitializersAndNodeArgs] Removing initializer 'classifier.bn_list.1.2.num_batches_tracked'. It is not used by any node and should be removed from the model.\n",
      "2022-05-14 22:47:55.240576347 [W:onnxruntime:, graph.cc:3559 CleanUnusedInitializersAndNodeArgs] Removing initializer 'bifpn.3.conv5_down.bn.num_batches_tracked'. It is not used by any node and should be removed from the model.\n",
      "2022-05-14 22:47:55.240599727 [W:onnxruntime:, graph.cc:3559 CleanUnusedInitializersAndNodeArgs] Removing initializer 'bifpn.1.conv4_down.bn.num_batches_tracked'. It is not used by any node and should be removed from the model.\n",
      "2022-05-14 22:47:55.240608365 [W:onnxruntime:, graph.cc:3559 CleanUnusedInitializersAndNodeArgs] Removing initializer 'backbone_net.model._blocks.18._bn2.num_batches_tracked'. It is not used by any node and should be removed from the model.\n",
      "2022-05-14 22:47:55.240623550 [W:onnxruntime:, graph.cc:3559 CleanUnusedInitializersAndNodeArgs] Removing initializer 'backbone_net.model._blocks.15._bn1.num_batches_tracked'. It is not used by any node and should be removed from the model.\n",
      "2022-05-14 22:47:55.240634543 [W:onnxruntime:, graph.cc:3559 CleanUnusedInitializersAndNodeArgs] Removing initializer 'bifpn.0.p4_down_channel.1.num_batches_tracked'. It is not used by any node and should be removed from the model.\n",
      "2022-05-14 22:47:55.240640766 [W:onnxruntime:, graph.cc:3559 CleanUnusedInitializersAndNodeArgs] Removing initializer 'bifpn.0.conv5_up.bn.num_batches_tracked'. It is not used by any node and should be removed from the model.\n",
      "2022-05-14 22:47:55.240646935 [W:onnxruntime:, graph.cc:3559 CleanUnusedInitializersAndNodeArgs] Removing initializer 'classifier.bn_list.0.2.num_batches_tracked'. It is not used by any node and should be removed from the model.\n",
      "2022-05-14 22:47:55.240656623 [W:onnxruntime:, graph.cc:3559 CleanUnusedInitializersAndNodeArgs] Removing initializer 'backbone_net.model._bn0.num_batches_tracked'. It is not used by any node and should be removed from the model.\n",
      "2022-05-14 22:47:55.240665590 [W:onnxruntime:, graph.cc:3559 CleanUnusedInitializersAndNodeArgs] Removing initializer 'backbone_net.model._blocks.18._bn1.num_batches_tracked'. It is not used by any node and should be removed from the model.\n",
      "2022-05-14 22:47:55.240675114 [W:onnxruntime:, graph.cc:3559 CleanUnusedInitializersAndNodeArgs] Removing initializer 'backbone_net.model._blocks.17._bn0.num_batches_tracked'. It is not used by any node and should be removed from the model.\n",
      "2022-05-14 22:47:55.240687371 [W:onnxruntime:, graph.cc:3559 CleanUnusedInitializersAndNodeArgs] Removing initializer 'backbone_net.model._blocks.17._bn2.num_batches_tracked'. It is not used by any node and should be removed from the model.\n",
      "2022-05-14 22:47:55.240694878 [W:onnxruntime:, graph.cc:3559 CleanUnusedInitializersAndNodeArgs] Removing initializer 'classifier.bn_list.2.2.num_batches_tracked'. It is not used by any node and should be removed from the model.\n",
      "2022-05-14 22:47:55.240701272 [W:onnxruntime:, graph.cc:3559 CleanUnusedInitializersAndNodeArgs] Removing initializer 'backbone_net.model._blocks.14._bn2.num_batches_tracked'. It is not used by any node and should be removed from the model.\n",
      "2022-05-14 22:47:55.240711813 [W:onnxruntime:, graph.cc:3559 CleanUnusedInitializersAndNodeArgs] Removing initializer 'backbone_net.model._blocks.15._bn2.num_batches_tracked'. It is not used by any node and should be removed from the model.\n",
      "2022-05-14 22:47:55.240718533 [W:onnxruntime:, graph.cc:3559 CleanUnusedInitializersAndNodeArgs] Removing initializer 'classifier.bn_list.1.0.num_batches_tracked'. It is not used by any node and should be removed from the model.\n",
      "2022-05-14 22:47:55.240734070 [W:onnxruntime:, graph.cc:3559 CleanUnusedInitializersAndNodeArgs] Removing initializer 'backbone_net.model._blocks.19._bn1.num_batches_tracked'. It is not used by any node and should be removed from the model.\n",
      "2022-05-14 22:47:55.240739861 [W:onnxruntime:, graph.cc:3559 CleanUnusedInitializersAndNodeArgs] Removing initializer 'bifpn.0.p5_to_p6.1.num_batches_tracked'. It is not used by any node and should be removed from the model.\n",
      "2022-05-14 22:47:55.240762526 [W:onnxruntime:, graph.cc:3559 CleanUnusedInitializersAndNodeArgs] Removing initializer 'bifpn.2.conv6_down.bn.num_batches_tracked'. It is not used by any node and should be removed from the model.\n",
      "2022-05-14 22:47:55.240768865 [W:onnxruntime:, graph.cc:3559 CleanUnusedInitializersAndNodeArgs] Removing initializer 'backbone_net.model._blocks.6._bn2.num_batches_tracked'. It is not used by any node and should be removed from the model.\n",
      "2022-05-14 22:47:55.240803269 [W:onnxruntime:, graph.cc:3559 CleanUnusedInitializersAndNodeArgs] Removing initializer 'backbone_net.model._blocks.6._bn1.num_batches_tracked'. It is not used by any node and should be removed from the model.\n",
      "2022-05-14 22:47:55.240824171 [W:onnxruntime:, graph.cc:3559 CleanUnusedInitializersAndNodeArgs] Removing initializer 'backbone_net.model._blocks.7._bn0.num_batches_tracked'. It is not used by any node and should be removed from the model.\n",
      "2022-05-14 22:47:55.240832266 [W:onnxruntime:, graph.cc:3559 CleanUnusedInitializersAndNodeArgs] Removing initializer 'backbone_net.model._blocks.5._bn1.num_batches_tracked'. It is not used by any node and should be removed from the model.\n",
      "2022-05-14 22:47:55.240840207 [W:onnxruntime:, graph.cc:3559 CleanUnusedInitializersAndNodeArgs] Removing initializer 'backbone_net.model._blocks.21._bn2.num_batches_tracked'. It is not used by any node and should be removed from the model.\n",
      "2022-05-14 22:47:55.240853151 [W:onnxruntime:, graph.cc:3559 CleanUnusedInitializersAndNodeArgs] Removing initializer 'backbone_net.model._blocks.8._bn0.num_batches_tracked'. It is not used by any node and should be removed from the model.\n",
      "2022-05-14 22:47:55.240861173 [W:onnxruntime:, graph.cc:3559 CleanUnusedInitializersAndNodeArgs] Removing initializer 'backbone_net.model._blocks.10._bn0.num_batches_tracked'. It is not used by any node and should be removed from the model.\n",
      "2022-05-14 22:47:55.240867229 [W:onnxruntime:, graph.cc:3559 CleanUnusedInitializersAndNodeArgs] Removing initializer 'backbone_net.model._blocks.8._bn1.num_batches_tracked'. It is not used by any node and should be removed from the model.\n",
      "2022-05-14 22:47:55.240885237 [W:onnxruntime:, graph.cc:3559 CleanUnusedInitializersAndNodeArgs] Removing initializer 'regressor.bn_list.2.1.num_batches_tracked'. It is not used by any node and should be removed from the model.\n",
      "2022-05-14 22:47:55.240898281 [W:onnxruntime:, graph.cc:3559 CleanUnusedInitializersAndNodeArgs] Removing initializer 'backbone_net.model._blocks.9._bn2.num_batches_tracked'. It is not used by any node and should be removed from the model.\n",
      "2022-05-14 22:47:55.240909439 [W:onnxruntime:, graph.cc:3559 CleanUnusedInitializersAndNodeArgs] Removing initializer 'bifpn.1.conv7_down.bn.num_batches_tracked'. It is not used by any node and should be removed from the model.\n",
      "2022-05-14 22:47:55.240919412 [W:onnxruntime:, graph.cc:3559 CleanUnusedInitializersAndNodeArgs] Removing initializer 'bifpn.0.conv3_up.bn.num_batches_tracked'. It is not used by any node and should be removed from the model.\n",
      "2022-05-14 22:47:55.240933515 [W:onnxruntime:, graph.cc:3559 CleanUnusedInitializersAndNodeArgs] Removing initializer 'bifpn.0.conv4_up.bn.num_batches_tracked'. It is not used by any node and should be removed from the model.\n",
      "2022-05-14 22:47:55.240940081 [W:onnxruntime:, graph.cc:3559 CleanUnusedInitializersAndNodeArgs] Removing initializer 'classifier.bn_list.3.2.num_batches_tracked'. It is not used by any node and should be removed from the model.\n",
      "2022-05-14 22:47:55.240955289 [W:onnxruntime:, graph.cc:3559 CleanUnusedInitializersAndNodeArgs] Removing initializer 'bifpn.3.conv4_up.bn.num_batches_tracked'. It is not used by any node and should be removed from the model.\n",
      "2022-05-14 22:47:55.240986638 [W:onnxruntime:, graph.cc:3559 CleanUnusedInitializersAndNodeArgs] Removing initializer 'backbone_net.model._blocks.22._bn1.num_batches_tracked'. It is not used by any node and should be removed from the model.\n",
      "2022-05-14 22:47:55.240992449 [W:onnxruntime:, graph.cc:3559 CleanUnusedInitializersAndNodeArgs] Removing initializer 'classifier.bn_list.1.1.num_batches_tracked'. It is not used by any node and should be removed from the model.\n",
      "2022-05-14 22:47:55.240998917 [W:onnxruntime:, graph.cc:3559 CleanUnusedInitializersAndNodeArgs] Removing initializer 'classifier.bn_list.3.1.num_batches_tracked'. It is not used by any node and should be removed from the model.\n",
      "2022-05-14 22:47:55.241004284 [W:onnxruntime:, graph.cc:3559 CleanUnusedInitializersAndNodeArgs] Removing initializer 'bifpn.0.p4_down_channel_2.1.num_batches_tracked'. It is not used by any node and should be removed from the model.\n",
      "2022-05-14 22:47:55.241015799 [W:onnxruntime:, graph.cc:3559 CleanUnusedInitializersAndNodeArgs] Removing initializer 'bifpn.0.p5_down_channel.1.num_batches_tracked'. It is not used by any node and should be removed from the model.\n",
      "2022-05-14 22:47:55.241024443 [W:onnxruntime:, graph.cc:3559 CleanUnusedInitializersAndNodeArgs] Removing initializer 'bifpn.0.p5_down_channel_2.1.num_batches_tracked'. It is not used by any node and should be removed from the model.\n",
      "2022-05-14 22:47:55.241032781 [W:onnxruntime:, graph.cc:3559 CleanUnusedInitializersAndNodeArgs] Removing initializer 'backbone_net.model._blocks.3._bn2.num_batches_tracked'. It is not used by any node and should be removed from the model.\n",
      "2022-05-14 22:47:55.241040919 [W:onnxruntime:, graph.cc:3559 CleanUnusedInitializersAndNodeArgs] Removing initializer 'backbone_net.model._blocks.4._bn2.num_batches_tracked'. It is not used by any node and should be removed from the model.\n",
      "2022-05-14 22:47:55.241049317 [W:onnxruntime:, graph.cc:3559 CleanUnusedInitializersAndNodeArgs] Removing initializer 'bifpn.1.conv3_up.bn.num_batches_tracked'. It is not used by any node and should be removed from the model.\n",
      "2022-05-14 22:47:55.241057771 [W:onnxruntime:, graph.cc:3559 CleanUnusedInitializersAndNodeArgs] Removing initializer 'bifpn.1.conv4_up.bn.num_batches_tracked'. It is not used by any node and should be removed from the model.\n",
      "2022-05-14 22:47:55.241062890 [W:onnxruntime:, graph.cc:3559 CleanUnusedInitializersAndNodeArgs] Removing initializer 'backbone_net.model._blocks.12._bn1.num_batches_tracked'. It is not used by any node and should be removed from the model.\n",
      "2022-05-14 22:47:55.241073988 [W:onnxruntime:, graph.cc:3559 CleanUnusedInitializersAndNodeArgs] Removing initializer 'bifpn.1.conv5_down.bn.num_batches_tracked'. It is not used by any node and should be removed from the model.\n",
      "2022-05-14 22:47:55.241082807 [W:onnxruntime:, graph.cc:3559 CleanUnusedInitializersAndNodeArgs] Removing initializer 'bifpn.1.conv5_up.bn.num_batches_tracked'. It is not used by any node and should be removed from the model.\n",
      "2022-05-14 22:47:55.241111064 [W:onnxruntime:, graph.cc:3559 CleanUnusedInitializersAndNodeArgs] Removing initializer 'regressor.bn_list.3.0.num_batches_tracked'. It is not used by any node and should be removed from the model.\n",
      "2022-05-14 22:47:55.241116214 [W:onnxruntime:, graph.cc:3559 CleanUnusedInitializersAndNodeArgs] Removing initializer 'classifier.bn_list.0.0.num_batches_tracked'. It is not used by any node and should be removed from the model.\n",
      "2022-05-14 22:47:55.241123641 [W:onnxruntime:, graph.cc:3559 CleanUnusedInitializersAndNodeArgs] Removing initializer 'bifpn.3.conv6_down.bn.num_batches_tracked'. It is not used by any node and should be removed from the model.\n",
      "2022-05-14 22:47:55.241134205 [W:onnxruntime:, graph.cc:3559 CleanUnusedInitializersAndNodeArgs] Removing initializer 'bifpn.2.conv5_up.bn.num_batches_tracked'. It is not used by any node and should be removed from the model.\n",
      "2022-05-14 22:47:55.241141885 [W:onnxruntime:, graph.cc:3559 CleanUnusedInitializersAndNodeArgs] Removing initializer 'backbone_net.model._blocks.14._bn1.num_batches_tracked'. It is not used by any node and should be removed from the model.\n",
      "2022-05-14 22:47:55.241148352 [W:onnxruntime:, graph.cc:3559 CleanUnusedInitializersAndNodeArgs] Removing initializer 'regressor.bn_list.2.2.num_batches_tracked'. It is not used by any node and should be removed from the model.\n",
      "2022-05-14 22:47:55.241162721 [W:onnxruntime:, graph.cc:3559 CleanUnusedInitializersAndNodeArgs] Removing initializer 'backbone_net.model._blocks.9._bn0.num_batches_tracked'. It is not used by any node and should be removed from the model.\n",
      "2022-05-14 22:47:55.241169372 [W:onnxruntime:, graph.cc:3559 CleanUnusedInitializersAndNodeArgs] Removing initializer 'bifpn.2.conv7_down.bn.num_batches_tracked'. It is not used by any node and should be removed from the model.\n",
      "2022-05-14 22:47:55.241183379 [W:onnxruntime:, graph.cc:3559 CleanUnusedInitializersAndNodeArgs] Removing initializer 'regressor.bn_list.3.2.num_batches_tracked'. It is not used by any node and should be removed from the model.\n",
      "2022-05-14 22:47:55.241189789 [W:onnxruntime:, graph.cc:3559 CleanUnusedInitializersAndNodeArgs] Removing initializer 'backbone_net.model._blocks.13._bn1.num_batches_tracked'. It is not used by any node and should be removed from the model.\n",
      "2022-05-14 22:47:55.241196036 [W:onnxruntime:, graph.cc:3559 CleanUnusedInitializersAndNodeArgs] Removing initializer 'bifpn.4.conv7_down.bn.num_batches_tracked'. It is not used by any node and should be removed from the model.\n",
      "2022-05-14 22:47:55.241201544 [W:onnxruntime:, graph.cc:3559 CleanUnusedInitializersAndNodeArgs] Removing initializer 'bifpn.3.conv4_down.bn.num_batches_tracked'. It is not used by any node and should be removed from the model.\n",
      "2022-05-14 22:47:55.241213794 [W:onnxruntime:, graph.cc:3559 CleanUnusedInitializersAndNodeArgs] Removing initializer 'backbone_net.model._blocks.22._bn0.num_batches_tracked'. It is not used by any node and should be removed from the model.\n",
      "2022-05-14 22:47:55.241226235 [W:onnxruntime:, graph.cc:3559 CleanUnusedInitializersAndNodeArgs] Removing initializer 'backbone_net.model._blocks.4._bn0.num_batches_tracked'. It is not used by any node and should be removed from the model.\n",
      "2022-05-14 22:47:55.241275336 [W:onnxruntime:, graph.cc:3559 CleanUnusedInitializersAndNodeArgs] Removing initializer 'bifpn.4.conv5_up.bn.num_batches_tracked'. It is not used by any node and should be removed from the model.\n",
      "2022-05-14 22:47:55.241288018 [W:onnxruntime:, graph.cc:3559 CleanUnusedInitializersAndNodeArgs] Removing initializer 'backbone_net.model._blocks.19._bn0.num_batches_tracked'. It is not used by any node and should be removed from the model.\n",
      "2022-05-14 22:47:55.241298370 [W:onnxruntime:, graph.cc:3559 CleanUnusedInitializersAndNodeArgs] Removing initializer 'backbone_net.model._blocks.20._bn1.num_batches_tracked'. It is not used by any node and should be removed from the model.\n",
      "2022-05-14 22:47:55.241308225 [W:onnxruntime:, graph.cc:3559 CleanUnusedInitializersAndNodeArgs] Removing initializer 'bifpn.3.conv6_up.bn.num_batches_tracked'. It is not used by any node and should be removed from the model.\n",
      "2022-05-14 22:47:55.241434793 [W:onnxruntime:, graph.cc:3559 CleanUnusedInitializersAndNodeArgs] Removing initializer 'bifpn.0.conv6_down.bn.num_batches_tracked'. It is not used by any node and should be removed from the model.\n",
      "2022-05-14 22:47:55.241475481 [W:onnxruntime:, graph.cc:3559 CleanUnusedInitializersAndNodeArgs] Removing initializer 'regressor.bn_list.3.1.num_batches_tracked'. It is not used by any node and should be removed from the model.\n",
      "2022-05-14 22:47:55.241503917 [W:onnxruntime:, graph.cc:3559 CleanUnusedInitializersAndNodeArgs] Removing initializer 'bifpn.2.conv6_up.bn.num_batches_tracked'. It is not used by any node and should be removed from the model.\n",
      "2022-05-14 22:47:55.241510880 [W:onnxruntime:, graph.cc:3559 CleanUnusedInitializersAndNodeArgs] Removing initializer 'classifier.bn_list.2.0.num_batches_tracked'. It is not used by any node and should be removed from the model.\n",
      "2022-05-14 22:47:55.241552426 [W:onnxruntime:, graph.cc:3559 CleanUnusedInitializersAndNodeArgs] Removing initializer 'bifpn.2.conv4_up.bn.num_batches_tracked'. It is not used by any node and should be removed from the model.\n",
      "2022-05-14 22:47:55.241568816 [W:onnxruntime:, graph.cc:3559 CleanUnusedInitializersAndNodeArgs] Removing initializer 'backbone_net.model._blocks.4._bn1.num_batches_tracked'. It is not used by any node and should be removed from the model.\n",
      "2022-05-14 22:47:55.241581443 [W:onnxruntime:, graph.cc:3559 CleanUnusedInitializersAndNodeArgs] Removing initializer 'regressor.bn_list.2.0.num_batches_tracked'. It is not used by any node and should be removed from the model.\n",
      "2022-05-14 22:47:55.241629180 [W:onnxruntime:, graph.cc:3559 CleanUnusedInitializersAndNodeArgs] Removing initializer 'regressor.bn_list.0.1.num_batches_tracked'. It is not used by any node and should be removed from the model.\n",
      "2022-05-14 22:47:55.241659066 [W:onnxruntime:, graph.cc:3559 CleanUnusedInitializersAndNodeArgs] Removing initializer 'backbone_net.model._blocks.1._bn2.num_batches_tracked'. It is not used by any node and should be removed from the model.\n",
      "2022-05-14 22:47:55.241683219 [W:onnxruntime:, graph.cc:3559 CleanUnusedInitializersAndNodeArgs] Removing initializer 'bifpn.2.conv5_down.bn.num_batches_tracked'. It is not used by any node and should be removed from the model.\n",
      "2022-05-14 22:47:55.241766607 [W:onnxruntime:, graph.cc:3559 CleanUnusedInitializersAndNodeArgs] Removing initializer 'bifpn.4.conv4_up.bn.num_batches_tracked'. It is not used by any node and should be removed from the model.\n",
      "2022-05-14 22:47:55.241773048 [W:onnxruntime:, graph.cc:3559 CleanUnusedInitializersAndNodeArgs] Removing initializer 'backbone_net.model._blocks.3._bn1.num_batches_tracked'. It is not used by any node and should be removed from the model.\n",
      "2022-05-14 22:47:55.241785278 [W:onnxruntime:, graph.cc:3559 CleanUnusedInitializersAndNodeArgs] Removing initializer 'regressor.bn_list.1.1.num_batches_tracked'. It is not used by any node and should be removed from the model.\n",
      "2022-05-14 22:47:55.241794260 [W:onnxruntime:, graph.cc:3559 CleanUnusedInitializersAndNodeArgs] Removing initializer 'bifpn.2.conv4_down.bn.num_batches_tracked'. It is not used by any node and should be removed from the model.\n",
      "2022-05-14 22:47:55.241841941 [W:onnxruntime:, graph.cc:3559 CleanUnusedInitializersAndNodeArgs] Removing initializer 'classifier.bn_list.3.0.num_batches_tracked'. It is not used by any node and should be removed from the model.\n",
      "2022-05-14 22:47:55.241862201 [W:onnxruntime:, graph.cc:3559 CleanUnusedInitializersAndNodeArgs] Removing initializer 'bifpn.1.conv6_down.bn.num_batches_tracked'. It is not used by any node and should be removed from the model.\n",
      "2022-05-14 22:47:55.241885388 [W:onnxruntime:, graph.cc:3559 CleanUnusedInitializersAndNodeArgs] Removing initializer 'backbone_net.model._blocks.13._bn2.num_batches_tracked'. It is not used by any node and should be removed from the model.\n",
      "2022-05-14 22:47:55.241899045 [W:onnxruntime:, graph.cc:3559 CleanUnusedInitializersAndNodeArgs] Removing initializer 'bifpn.3.conv7_down.bn.num_batches_tracked'. It is not used by any node and should be removed from the model.\n",
      "2022-05-14 22:47:55.241917204 [W:onnxruntime:, graph.cc:3559 CleanUnusedInitializersAndNodeArgs] Removing initializer 'bifpn.0.conv6_up.bn.num_batches_tracked'. It is not used by any node and should be removed from the model.\n",
      "2022-05-14 22:47:55.241928682 [W:onnxruntime:, graph.cc:3559 CleanUnusedInitializersAndNodeArgs] Removing initializer 'bifpn.0.conv4_down.bn.num_batches_tracked'. It is not used by any node and should be removed from the model.\n",
      "2022-05-14 22:47:55.241955050 [W:onnxruntime:, graph.cc:3559 CleanUnusedInitializersAndNodeArgs] Removing initializer 'backbone_net.model._blocks.22._bn2.num_batches_tracked'. It is not used by any node and should be removed from the model.\n"
     ]
    }
   ],
   "source": [
    "ort_session = load_onnx(onnx_path)"
   ]
  },
  {
   "cell_type": "code",
   "execution_count": null,
   "metadata": {},
   "outputs": [],
   "source": [
    "img_name = \"DLLJ1796.jpg\"\n",
    "img_path = str(img_path/img_name)"
   ]
  },
  {
   "cell_type": "code",
   "execution_count": null,
   "metadata": {},
   "outputs": [
    {
     "name": "stdout",
     "output_type": "stream",
     "text": [
      "CPU times: user 13.5 s, sys: 978 ms, total: 14.5 s\n",
      "Wall time: 772 ms\n"
     ]
    }
   ],
   "source": [
    "%%time\n",
    "out, ori_imgs = eval_onnx(\n",
    "    ort_session,\n",
    "    compound_coef,\n",
    "    img_path,\n",
    "    threshold,\n",
    "    iou_threshold,\n",
    "    use_float16=False,\n",
    "    input_sizes=[512, 640, 768, 896, 1024, 1280, 1280, 1536],\n",
    ")\n",
    "# display_bbox(out, ori_imgs, obj_list)"
   ]
  },
  {
   "cell_type": "code",
   "execution_count": null,
   "metadata": {},
   "outputs": [],
   "source": []
  }
 ],
 "metadata": {
  "interpreter": {
   "hash": "f9e9b159799285ea164719ddc4fe351d6fa9b0332cb9ca4857e109bca51307c6"
  },
  "kernelspec": {
   "display_name": "Python 3.7.0 ('eff')",
   "language": "python",
   "name": "python3"
  },
  "language_info": {
   "codemirror_mode": {
    "name": "ipython",
    "version": 3
   },
   "file_extension": ".py",
   "mimetype": "text/x-python",
   "name": "python",
   "nbconvert_exporter": "python",
   "pygments_lexer": "ipython3",
   "version": "3.7.0"
  },
  "orig_nbformat": 4
 },
 "nbformat": 4,
 "nbformat_minor": 2
}
