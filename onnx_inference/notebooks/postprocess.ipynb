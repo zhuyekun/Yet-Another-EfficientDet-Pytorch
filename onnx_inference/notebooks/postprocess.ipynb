{
 "cells": [
  {
   "cell_type": "code",
   "execution_count": 1,
   "metadata": {},
   "outputs": [],
   "source": [
    "import numpy as np"
   ]
  },
  {
   "cell_type": "code",
   "execution_count": 2,
   "metadata": {},
   "outputs": [],
   "source": [
    "def nms_np(boxes, scores,overlap_threshold=0.5, min_mode=False):\n",
    "    x1 = boxes[:, 0]\n",
    "    y1 = boxes[:, 1]\n",
    "    x2 = boxes[:, 2]\n",
    "    y2 = boxes[:, 3]\n",
    "\n",
    "    areas = (x2 - x1 + 1) * (y2 - y1 + 1)\n",
    "    order = scores.argsort()[::-1]\n",
    "\n",
    "    keep = []\n",
    "    while order.size > 0:\n",
    "        keep.append(order[0])\n",
    "        xx1 = np.maximum(x1[order[0]], x1[order[1:]])\n",
    "        yy1 = np.maximum(y1[order[0]], y1[order[1:]])\n",
    "        xx2 = np.minimum(x2[order[0]], x2[order[1:]])\n",
    "        yy2 = np.minimum(y2[order[0]], y2[order[1:]])\n",
    "\n",
    "        w = np.maximum(0.0, xx2 - xx1 + 1)\n",
    "        h = np.maximum(0.0, yy2 - yy1 + 1)\n",
    "        inter = w * h\n",
    "\n",
    "        if min_mode:\n",
    "            ovr = inter / np.minimum(areas[order[0]], areas[order[1:]])\n",
    "        else:\n",
    "            ovr = inter / (areas[order[0]] + areas[order[1:]] - inter)\n",
    "\n",
    "        inds = np.where(ovr <= overlap_threshold)[0]\n",
    "        order = order[inds + 1]\n",
    "    return keep\n",
    "\n",
    "def batch_nms_np(boxes, scores, idxs, iou_threshold):\n",
    "    if len(boxes) == 0:\n",
    "        return np.array([])\n",
    "    # strategy: in order to perform NMS independently per class.\n",
    "    # we add an offset to all the boxes. The offset is dependent\n",
    "    # only on the class idx, and is large enough so that boxes\n",
    "    # from different classes do not overlap\n",
    "    max_coordinate = boxes.max()\n",
    "    offsets = idxs * (max_coordinate + 1)\n",
    "    boxes_for_nms = boxes + offsets[:, None]\n",
    "    keep = nms_np(boxes_for_nms, scores, iou_threshold)\n",
    "    return keep\n"
   ]
  },
  {
   "cell_type": "code",
   "execution_count": 3,
   "metadata": {},
   "outputs": [],
   "source": [
    "b = np.array([[2,2,4,4], [1,1,5,5], [3,3,3.5,3.9]]) # bbox\n",
    "c = np.array([0,1,0]) # classes\n",
    "s = np.array([0.8,0.8,0.8]) # scores"
   ]
  },
  {
   "cell_type": "code",
   "execution_count": 4,
   "metadata": {},
   "outputs": [
    {
     "data": {
      "text/plain": [
       "[2, 1]"
      ]
     },
     "execution_count": 4,
     "metadata": {},
     "output_type": "execute_result"
    }
   ],
   "source": [
    "batch_nms_np(b,s,c,0.001)"
   ]
  },
  {
   "cell_type": "code",
   "execution_count": 7,
   "metadata": {},
   "outputs": [
    {
     "name": "stderr",
     "output_type": "stream",
     "text": [
      "/home/mazheng/miniconda3/envs/eff/lib/python3.7/site-packages/tqdm/auto.py:22: TqdmWarning: IProgress not found. Please update jupyter and ipywidgets. See https://ipywidgets.readthedocs.io/en/stable/user_install.html\n",
      "  from .autonotebook import tqdm as notebook_tqdm\n"
     ]
    }
   ],
   "source": [
    "import torch"
   ]
  },
  {
   "cell_type": "code",
   "execution_count": 6,
   "metadata": {},
   "outputs": [],
   "source": [
    "def postprocess(\n",
    "    x,\n",
    "    transformed_anchors,\n",
    "    classification,\n",
    "    threshold,\n",
    "    iou_threshold,\n",
    "):\n",
    "    # transformed_anchors = torch.from_numpy(transformed_anchors)\n",
    "    # classification = torch.from_numpy(classification)\n",
    "    scores_ = torch.max(torch.from_numpy(classification), axis=2, keepdims=True)[0]\n",
    "    scores = np.amax(classification, axis=2, keepdims=True)[0]\n",
    "\n",
    "    print(scores_.numpy() - scores)\n",
    "    scores_over_thresh = (scores > threshold)[:, :, 0]\n",
    "    out = []\n",
    "    for i in range(x.shape[0]):\n",
    "        if scores_over_thresh[i].sum() == 0:\n",
    "            # print(scores_over_thresh[i].sum())\n",
    "            out.append(\n",
    "                {\n",
    "                    \"rois\": np.array(()),\n",
    "                    \"class_ids\": np.array(()),\n",
    "                    \"scores\": np.array(()),\n",
    "                }\n",
    "            )\n",
    "            continue\n",
    "\n",
    "        classification_per = classification[i, scores_over_thresh[i, :], ...].permute(\n",
    "            1, 0\n",
    "        )\n",
    "        transformed_anchors_per = transformed_anchors[i, scores_over_thresh[i, :], ...]\n",
    "        scores_per = scores[i, scores_over_thresh[i, :], ...]\n",
    "        scores_, classes_ = classification_per.max(dim=0)\n",
    "        anchors_nms_idx = batch_nms_np(\n",
    "            transformed_anchors_per,\n",
    "            scores_per[:, 0],\n",
    "            classes_,\n",
    "            iou_threshold=iou_threshold,\n",
    "        )\n",
    "\n",
    "        if anchors_nms_idx.shape[0] != 0:\n",
    "            classes_ = classes_[anchors_nms_idx]\n",
    "            scores_ = scores_[anchors_nms_idx]\n",
    "            boxes_ = transformed_anchors_per[anchors_nms_idx, :]\n",
    "\n",
    "            out.append(\n",
    "                {\n",
    "                    \"rois\": boxes_,\n",
    "                    \"class_ids\": classes_,\n",
    "                    \"scores\": scores_,\n",
    "                }\n",
    "            )\n",
    "        else:\n",
    "            out.append(\n",
    "                {\n",
    "                    \"rois\": np.array(()),\n",
    "                    \"class_ids\": np.array(()),\n",
    "                    \"scores\": np.array(()),\n",
    "                }\n",
    "            )\n",
    "\n",
    "    return out"
   ]
  },
  {
   "cell_type": "code",
   "execution_count": null,
   "metadata": {},
   "outputs": [],
   "source": []
  }
 ],
 "metadata": {
  "interpreter": {
   "hash": "f9e9b159799285ea164719ddc4fe351d6fa9b0332cb9ca4857e109bca51307c6"
  },
  "kernelspec": {
   "display_name": "Python 3.7.0 ('eff')",
   "language": "python",
   "name": "python3"
  },
  "language_info": {
   "codemirror_mode": {
    "name": "ipython",
    "version": 3
   },
   "file_extension": ".py",
   "mimetype": "text/x-python",
   "name": "python",
   "nbconvert_exporter": "python",
   "pygments_lexer": "ipython3",
   "version": "3.7.0"
  },
  "orig_nbformat": 4
 },
 "nbformat": 4,
 "nbformat_minor": 2
}
