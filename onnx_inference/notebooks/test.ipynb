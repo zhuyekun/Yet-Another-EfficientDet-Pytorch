{
 "cells": [
  {
   "cell_type": "code",
   "execution_count": 3,
   "metadata": {},
   "outputs": [
    {
     "ename": "ModuleNotFoundError",
     "evalue": "No module named 'torch.types'",
     "output_type": "error",
     "traceback": [
      "\u001b[0;31m---------------------------------------------------------------------------\u001b[0m",
      "\u001b[0;31mModuleNotFoundError\u001b[0m                       Traceback (most recent call last)",
      "\u001b[0;32m/tmp/ipykernel_30651/2224762462.py\u001b[0m in \u001b[0;36m<module>\u001b[0;34m\u001b[0m\n\u001b[0;32m----> 1\u001b[0;31m \u001b[0;32mfrom\u001b[0m \u001b[0monnxruntime_extensions\u001b[0m\u001b[0;34m.\u001b[0m\u001b[0monnxprocess\u001b[0m \u001b[0;32mimport\u001b[0m \u001b[0mtrace_for_onnx\u001b[0m\u001b[0;34m\u001b[0m\u001b[0m\n\u001b[0m\u001b[1;32m      2\u001b[0m \u001b[0;32mfrom\u001b[0m \u001b[0monnxruntime_extensions\u001b[0m\u001b[0;34m.\u001b[0m\u001b[0monnxprocess\u001b[0m \u001b[0;32mimport\u001b[0m \u001b[0mtorch_wrapper\u001b[0m \u001b[0;32mas\u001b[0m \u001b[0mtorch\u001b[0m  \u001b[0;31m# overload torch API if it is needed\u001b[0m\u001b[0;34m\u001b[0m\u001b[0m\n\u001b[1;32m      3\u001b[0m \u001b[0;32mimport\u001b[0m \u001b[0mnumpy\u001b[0m \u001b[0;32mas\u001b[0m \u001b[0mnp\u001b[0m\u001b[0;34m\u001b[0m\u001b[0m\n",
      "\u001b[0;32m~/miniconda3/envs/eff/lib/python3.7/site-packages/onnxruntime_extensions/onnxprocess/__init__.py\u001b[0m in \u001b[0;36m<module>\u001b[0;34m\u001b[0m\n\u001b[1;32m      5\u001b[0m \"\"\"\n\u001b[1;32m      6\u001b[0m \u001b[0;34m\u001b[0m\u001b[0m\n\u001b[0;32m----> 7\u001b[0;31m \u001b[0;32mfrom\u001b[0m \u001b[0;34m.\u001b[0m \u001b[0m_tensor\u001b[0m \u001b[0;32mimport\u001b[0m \u001b[0mop_from_customop\u001b[0m \u001b[0;32mas\u001b[0m \u001b[0mpyfunc_from_custom_op\u001b[0m\u001b[0;34m\u001b[0m\u001b[0m\n\u001b[0m\u001b[1;32m      8\u001b[0m \u001b[0;32mfrom\u001b[0m \u001b[0;34m.\u001b[0m \u001b[0m_tensor\u001b[0m \u001b[0;32mimport\u001b[0m \u001b[0mop_from_model\u001b[0m \u001b[0;32mas\u001b[0m \u001b[0mpyfunc_from_model\u001b[0m\u001b[0;34m\u001b[0m\u001b[0m\n\u001b[1;32m      9\u001b[0m \u001b[0;32mfrom\u001b[0m \u001b[0;34m.\u001b[0m\u001b[0m_builder\u001b[0m \u001b[0;32mimport\u001b[0m \u001b[0mbuild_customop_model\u001b[0m\u001b[0;34m\u001b[0m\u001b[0m\n",
      "\u001b[0;32m~/miniconda3/envs/eff/lib/python3.7/site-packages/onnxruntime_extensions/onnxprocess/_tensor.py\u001b[0m in \u001b[0;36m<module>\u001b[0;34m\u001b[0m\n\u001b[1;32m      5\u001b[0m \u001b[0;32mfrom\u001b[0m \u001b[0monnx\u001b[0m \u001b[0;32mimport\u001b[0m \u001b[0monnx_pb\u001b[0m \u001b[0;32mas\u001b[0m \u001b[0monnx_proto\u001b[0m\u001b[0;34m\u001b[0m\u001b[0m\n\u001b[1;32m      6\u001b[0m \u001b[0;32mfrom\u001b[0m \u001b[0mtyping\u001b[0m \u001b[0;32mimport\u001b[0m \u001b[0mList\u001b[0m\u001b[0;34m,\u001b[0m \u001b[0mTuple\u001b[0m\u001b[0;34m,\u001b[0m \u001b[0mOptional\u001b[0m\u001b[0;34m,\u001b[0m \u001b[0mUnion\u001b[0m\u001b[0;34m,\u001b[0m \u001b[0mAny\u001b[0m\u001b[0;34m,\u001b[0m \u001b[0mContextManager\u001b[0m\u001b[0;34m,\u001b[0m \u001b[0moverload\u001b[0m\u001b[0;34m,\u001b[0m \u001b[0mIterator\u001b[0m\u001b[0;34m,\u001b[0m \u001b[0mNamedTuple\u001b[0m\u001b[0;34m\u001b[0m\u001b[0m\n\u001b[0;32m----> 7\u001b[0;31m \u001b[0;32mfrom\u001b[0m \u001b[0mtorch\u001b[0m\u001b[0;34m.\u001b[0m\u001b[0mtypes\u001b[0m \u001b[0;32mimport\u001b[0m \u001b[0m_int\u001b[0m\u001b[0;34m,\u001b[0m \u001b[0m_float\u001b[0m\u001b[0;34m,\u001b[0m \u001b[0m_bool\u001b[0m\u001b[0;34m,\u001b[0m \u001b[0mNumber\u001b[0m\u001b[0;34m,\u001b[0m \u001b[0m_dtype\u001b[0m\u001b[0;34m,\u001b[0m \u001b[0m_device\u001b[0m\u001b[0;34m,\u001b[0m \u001b[0m_qscheme\u001b[0m\u001b[0;34m,\u001b[0m \u001b[0m_size\u001b[0m\u001b[0;34m,\u001b[0m \u001b[0m_layout\u001b[0m  \u001b[0;31m# noqa\u001b[0m\u001b[0;34m\u001b[0m\u001b[0m\n\u001b[0m\u001b[1;32m      8\u001b[0m \u001b[0;32mfrom\u001b[0m \u001b[0mtorch\u001b[0m \u001b[0;32mimport\u001b[0m \u001b[0mstrided\u001b[0m\u001b[0;34m,\u001b[0m \u001b[0mmemory_format\u001b[0m\u001b[0;34m,\u001b[0m \u001b[0mcontiguous_format\u001b[0m\u001b[0;34m,\u001b[0m \u001b[0mStringType\u001b[0m  \u001b[0;31m# noqa\u001b[0m\u001b[0;34m\u001b[0m\u001b[0m\n\u001b[1;32m      9\u001b[0m \u001b[0;34m\u001b[0m\u001b[0m\n",
      "\u001b[0;31mModuleNotFoundError\u001b[0m: No module named 'torch.types'"
     ]
    }
   ],
   "source": [
    "from onnxruntime_extensions.onnxprocess import trace_for_onnx\n",
    "from onnxruntime_extensions.onnxprocess import torch_wrapper as torch  # overload torch API if it is needed\n",
    "import numpy as np"
   ]
  },
  {
   "cell_type": "code",
   "execution_count": 9,
   "metadata": {},
   "outputs": [],
   "source": [
    "from pathlib import Path\n",
    "img_path = Path('/home/mazheng/waste-detection/Yet-Another-EfficientDet-Pytorch/onnx_inference/examples/fig')"
   ]
  },
  {
   "cell_type": "code",
   "execution_count": 16,
   "metadata": {},
   "outputs": [],
   "source": [
    "import torch\n",
    "import numpy as np"
   ]
  },
  {
   "cell_type": "code",
   "execution_count": 17,
   "metadata": {},
   "outputs": [],
   "source": [
    "def func():\n",
    "    return np.array([1]),np.array([2]),np.array([3])"
   ]
  },
  {
   "cell_type": "code",
   "execution_count": 20,
   "metadata": {},
   "outputs": [],
   "source": [
    "a,b,c = [torch.from_numpy(i) for i in func()]"
   ]
  },
  {
   "cell_type": "code",
   "execution_count": 21,
   "metadata": {},
   "outputs": [
    {
     "data": {
      "text/plain": [
       "(tensor([1]), tensor([2]), tensor([3]))"
      ]
     },
     "execution_count": 21,
     "metadata": {},
     "output_type": "execute_result"
    }
   ],
   "source": [
    "a,b,c"
   ]
  },
  {
   "cell_type": "code",
   "execution_count": null,
   "metadata": {},
   "outputs": [],
   "source": [
    "def postprocess(\n",
    "    x,\n",
    "    anchors,\n",
    "    regression,\n",
    "    classification,\n",
    "    regressBoxes,\n",
    "    clipBoxes,\n",
    "    threshold,\n",
    "    iou_threshold,\n",
    "):\n",
    "    transformed_anchors = regressBoxes(anchors, regression)\n",
    "    transformed_anchors = clipBoxes(transformed_anchors, x)\n",
    "    scores = torch.max(classification, dim=2, keepdim=True)[0]\n",
    "    # print(scores)\n",
    "    # print(scores > threshold)\n",
    "    scores_over_thresh = (scores > threshold)[:, :, 0]\n",
    "    out = []\n",
    "    for i in range(x.shape[0]):\n",
    "        if scores_over_thresh[i].sum() == 0:\n",
    "            # print(scores_over_thresh[i].sum())\n",
    "            out.append(\n",
    "                {\n",
    "                    \"rois\": np.array(()),\n",
    "                    \"class_ids\": np.array(()),\n",
    "                    \"scores\": np.array(()),\n",
    "                }\n",
    "            )\n",
    "            continue\n",
    "\n",
    "        classification_per = classification[i, scores_over_thresh[i, :], ...].permute(\n",
    "            1, 0\n",
    "        )\n",
    "        transformed_anchors_per = transformed_anchors[i, scores_over_thresh[i, :], ...]\n",
    "        scores_per = scores[i, scores_over_thresh[i, :], ...]\n",
    "        scores_, classes_ = classification_per.max(dim=0)\n",
    "        anchors_nms_idx = batched_nms(\n",
    "            transformed_anchors_per,\n",
    "            scores_per[:, 0],\n",
    "            classes_,\n",
    "            iou_threshold=iou_threshold,\n",
    "        )\n",
    "\n",
    "        if anchors_nms_idx.shape[0] != 0:\n",
    "            classes_ = classes_[anchors_nms_idx]\n",
    "            scores_ = scores_[anchors_nms_idx]\n",
    "            boxes_ = transformed_anchors_per[anchors_nms_idx, :]\n",
    "\n",
    "            out.append(\n",
    "                {\n",
    "                    \"rois\": boxes_.cpu().numpy(),\n",
    "                    \"class_ids\": classes_.cpu().numpy(),\n",
    "                    \"scores\": scores_.cpu().numpy(),\n",
    "                }\n",
    "            )\n",
    "        else:\n",
    "            out.append(\n",
    "                {\n",
    "                    \"rois\": np.array(()),\n",
    "                    \"class_ids\": np.array(()),\n",
    "                    \"scores\": np.array(()),\n",
    "                }\n",
    "            )\n",
    "\n",
    "    return out\n",
    "\n"
   ]
  }
 ],
 "metadata": {
  "interpreter": {
   "hash": "f9e9b159799285ea164719ddc4fe351d6fa9b0332cb9ca4857e109bca51307c6"
  },
  "kernelspec": {
   "display_name": "Python 3.7.0 ('eff')",
   "language": "python",
   "name": "python3"
  },
  "language_info": {
   "codemirror_mode": {
    "name": "ipython",
    "version": 3
   },
   "file_extension": ".py",
   "mimetype": "text/x-python",
   "name": "python",
   "nbconvert_exporter": "python",
   "pygments_lexer": "ipython3",
   "version": "3.7.0"
  },
  "orig_nbformat": 4
 },
 "nbformat": 4,
 "nbformat_minor": 2
}
